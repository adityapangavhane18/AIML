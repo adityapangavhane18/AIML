{
 "cells": [
  {
   "cell_type": "markdown",
   "id": "14ed33f8-6f83-4f7f-b224-8f9d83fb880d",
   "metadata": {},
   "source": [
    "# Welcome to numpy"
   ]
  },
  {
   "cell_type": "code",
   "execution_count": 1,
   "id": "31f142a5-7474-445a-9176-dd5f6c765ff4",
   "metadata": {},
   "outputs": [],
   "source": [
    "import numpy as np"
   ]
  },
  {
   "cell_type": "code",
   "execution_count": 2,
   "id": "14bcc86e-36da-41cb-b10f-c5a529b6a701",
   "metadata": {},
   "outputs": [],
   "source": [
    "myarr = np.array([[3,6,32,7]], np.int64)"
   ]
  },
  {
   "cell_type": "code",
   "execution_count": 3,
   "id": "7c9d37ad-7a6d-4d6b-96cc-a4ed7a05f868",
   "metadata": {},
   "outputs": [
    {
     "data": {
      "text/plain": [
       "np.int64(6)"
      ]
     },
     "execution_count": 3,
     "metadata": {},
     "output_type": "execute_result"
    }
   ],
   "source": [
    "myarr[0, 1]"
   ]
  },
  {
   "cell_type": "code",
   "execution_count": 4,
   "id": "eb0ca155-7be0-4b8d-8e0a-73237f2c7041",
   "metadata": {},
   "outputs": [
    {
     "data": {
      "text/plain": [
       "(1, 4)"
      ]
     },
     "execution_count": 4,
     "metadata": {},
     "output_type": "execute_result"
    }
   ],
   "source": [
    "myarr.shape"
   ]
  },
  {
   "cell_type": "code",
   "execution_count": 5,
   "id": "10cc807b-4c2f-4dbf-9b18-bf119c71e40a",
   "metadata": {},
   "outputs": [
    {
     "data": {
      "text/plain": [
       "dtype('int64')"
      ]
     },
     "execution_count": 5,
     "metadata": {},
     "output_type": "execute_result"
    }
   ],
   "source": [
    "myarr.dtype"
   ]
  },
  {
   "cell_type": "markdown",
   "id": "99fdae0d-594b-49e0-8fc4-64bfd3f7b2c7",
   "metadata": {},
   "source": [
    "# Array creation: Conversion from other Python structure"
   ]
  },
  {
   "cell_type": "code",
   "execution_count": 6,
   "id": "03667e5b-2e65-4115-928a-8eaf4e0fad90",
   "metadata": {},
   "outputs": [],
   "source": [
    "listarray = np.array([[1,2,3] , [5,8,5] , [0,3,1]])"
   ]
  },
  {
   "cell_type": "code",
   "execution_count": 7,
   "id": "de98c85d-a130-4f4f-b924-68b8c0cdc560",
   "metadata": {},
   "outputs": [
    {
     "data": {
      "text/plain": [
       "array([[1, 2, 3],\n",
       "       [5, 8, 5],\n",
       "       [0, 3, 1]])"
      ]
     },
     "execution_count": 7,
     "metadata": {},
     "output_type": "execute_result"
    }
   ],
   "source": [
    "listarray"
   ]
  },
  {
   "cell_type": "code",
   "execution_count": 8,
   "id": "f474d649-df5c-490e-9bf6-f7c1eb05904a",
   "metadata": {},
   "outputs": [
    {
     "data": {
      "text/plain": [
       "(3, 3)"
      ]
     },
     "execution_count": 8,
     "metadata": {},
     "output_type": "execute_result"
    }
   ],
   "source": [
    "listarray.shape"
   ]
  },
  {
   "cell_type": "code",
   "execution_count": 9,
   "id": "434a1cfa-5dbb-4f70-aaf0-43c5f6d35bdf",
   "metadata": {},
   "outputs": [
    {
     "data": {
      "text/plain": [
       "9"
      ]
     },
     "execution_count": 9,
     "metadata": {},
     "output_type": "execute_result"
    }
   ],
   "source": [
    "listarray.size"
   ]
  },
  {
   "cell_type": "code",
   "execution_count": 10,
   "id": "e76d5422-eeb5-47f5-9a9f-44cf79df7c33",
   "metadata": {},
   "outputs": [
    {
     "data": {
      "text/plain": [
       "array({34, 23}, dtype=object)"
      ]
     },
     "execution_count": 10,
     "metadata": {},
     "output_type": "execute_result"
    }
   ],
   "source": [
    "np.array({34,23,23})"
   ]
  },
  {
   "cell_type": "code",
   "execution_count": 11,
   "id": "91e198bc-8d9c-40f2-9b62-081898a2d949",
   "metadata": {},
   "outputs": [],
   "source": [
    "zeros = np.zeros((2,5))"
   ]
  },
  {
   "cell_type": "code",
   "execution_count": 12,
   "id": "f9502016-fde2-4a49-8fdd-dab4ddc54c60",
   "metadata": {},
   "outputs": [
    {
     "data": {
      "text/plain": [
       "array([[0., 0., 0., 0., 0.],\n",
       "       [0., 0., 0., 0., 0.]])"
      ]
     },
     "execution_count": 12,
     "metadata": {},
     "output_type": "execute_result"
    }
   ],
   "source": [
    "zeros"
   ]
  },
  {
   "cell_type": "code",
   "execution_count": 13,
   "id": "b5bbefe4-e420-403e-9b16-ccc7e31f799e",
   "metadata": {},
   "outputs": [],
   "source": [
    "rng = np.arange(15)"
   ]
  },
  {
   "cell_type": "code",
   "execution_count": 14,
   "id": "226d93c7-9e4a-407c-beee-fdb65739af58",
   "metadata": {},
   "outputs": [
    {
     "data": {
      "text/plain": [
       "array([ 0,  1,  2,  3,  4,  5,  6,  7,  8,  9, 10, 11, 12, 13, 14])"
      ]
     },
     "execution_count": 14,
     "metadata": {},
     "output_type": "execute_result"
    }
   ],
   "source": [
    "rng"
   ]
  },
  {
   "cell_type": "code",
   "execution_count": 15,
   "id": "d3c9e395-0dc9-4332-89be-cf536725331d",
   "metadata": {},
   "outputs": [],
   "source": [
    "lspace = np.linspace(1,50,10)"
   ]
  },
  {
   "cell_type": "code",
   "execution_count": 16,
   "id": "621675f7-f351-463a-aede-5d1908c879cc",
   "metadata": {},
   "outputs": [
    {
     "data": {
      "text/plain": [
       "array([ 1.        ,  6.44444444, 11.88888889, 17.33333333, 22.77777778,\n",
       "       28.22222222, 33.66666667, 39.11111111, 44.55555556, 50.        ])"
      ]
     },
     "execution_count": 16,
     "metadata": {},
     "output_type": "execute_result"
    }
   ],
   "source": [
    "lspace"
   ]
  },
  {
   "cell_type": "code",
   "execution_count": 17,
   "id": "6f80fdb9-11a9-4ab6-ab0b-bfb0be766853",
   "metadata": {},
   "outputs": [],
   "source": [
    "one = np.array([1,3,4,634,2])"
   ]
  },
  {
   "cell_type": "code",
   "execution_count": 18,
   "id": "850ec451-c7d7-4f8e-b844-b5bbe9a32bdc",
   "metadata": {},
   "outputs": [
    {
     "data": {
      "text/plain": [
       "np.int64(3)"
      ]
     },
     "execution_count": 18,
     "metadata": {},
     "output_type": "execute_result"
    }
   ],
   "source": [
    "one.argmax()"
   ]
  },
  {
   "cell_type": "code",
   "execution_count": 19,
   "id": "160c3b8e-885f-4055-82f3-d6eaa1bddf80",
   "metadata": {},
   "outputs": [
    {
     "data": {
      "text/plain": [
       "np.int64(0)"
      ]
     },
     "execution_count": 19,
     "metadata": {},
     "output_type": "execute_result"
    }
   ],
   "source": [
    "one.argmin()"
   ]
  },
  {
   "cell_type": "code",
   "execution_count": 20,
   "id": "907aeb54-a471-4253-b46a-28c0ab623da2",
   "metadata": {},
   "outputs": [
    {
     "data": {
      "text/plain": [
       "array([0, 4, 1, 2, 3])"
      ]
     },
     "execution_count": 20,
     "metadata": {},
     "output_type": "execute_result"
    }
   ],
   "source": [
    "one.argsort()"
   ]
  },
  {
   "cell_type": "code",
   "execution_count": 25,
   "id": "8387c9e8-8e12-4caf-81b0-47953ad138fd",
   "metadata": {},
   "outputs": [],
   "source": [
    "ar1 = np.array([[1,2,2],\n",
    "               [4,2,1],\n",
    "               [10,5,4]])"
   ]
  },
  {
   "cell_type": "code",
   "execution_count": 26,
   "id": "e538e800-8eff-4492-becc-1899dd79a331",
   "metadata": {},
   "outputs": [],
   "source": [
    "ar2 = np.array([[2,3,1],\n",
    "               [3,5,6],\n",
    "               [9,4,2]])"
   ]
  },
  {
   "cell_type": "code",
   "execution_count": 27,
   "id": "9de8ff87-4397-46d5-a647-5e96dbc90cf8",
   "metadata": {},
   "outputs": [
    {
     "data": {
      "text/plain": [
       "array([[ 3,  5,  3],\n",
       "       [ 7,  7,  7],\n",
       "       [19,  9,  6]])"
      ]
     },
     "execution_count": 27,
     "metadata": {},
     "output_type": "execute_result"
    }
   ],
   "source": [
    "ar1 + ar2"
   ]
  },
  {
   "cell_type": "code",
   "execution_count": 28,
   "id": "0b422ae8-2d51-4884-b832-6ca01529600d",
   "metadata": {},
   "outputs": [
    {
     "data": {
      "text/plain": [
       "[32, 34, 24, 26]"
      ]
     },
     "execution_count": 28,
     "metadata": {},
     "output_type": "execute_result"
    }
   ],
   "source": [
    "[32,34] + [24,26] "
   ]
  },
  {
   "cell_type": "code",
   "execution_count": 29,
   "id": "72bae06f-848c-4f23-9a82-5cd202fd7b4c",
   "metadata": {},
   "outputs": [
    {
     "data": {
      "text/plain": [
       "array([[ 2,  6,  2],\n",
       "       [12, 10,  6],\n",
       "       [90, 20,  8]])"
      ]
     },
     "execution_count": 29,
     "metadata": {},
     "output_type": "execute_result"
    }
   ],
   "source": [
    " ar1 * ar2"
   ]
  },
  {
   "cell_type": "code",
   "execution_count": 31,
   "id": "8a35994a-c40c-4637-b84e-dc322490ddff",
   "metadata": {},
   "outputs": [
    {
     "data": {
      "text/plain": [
       "array([[1.        , 1.41421356, 1.41421356],\n",
       "       [2.        , 1.41421356, 1.        ],\n",
       "       [3.16227766, 2.23606798, 2.        ]])"
      ]
     },
     "execution_count": 31,
     "metadata": {},
     "output_type": "execute_result"
    }
   ],
   "source": [
    "np.sqrt(ar1)"
   ]
  },
  {
   "cell_type": "code",
   "execution_count": 32,
   "id": "15bcbef5-b2ac-4ad1-82fc-9a42f03bf43b",
   "metadata": {},
   "outputs": [
    {
     "data": {
      "text/plain": [
       "np.int64(31)"
      ]
     },
     "execution_count": 32,
     "metadata": {},
     "output_type": "execute_result"
    }
   ],
   "source": [
    "ar1.sum()"
   ]
  },
  {
   "cell_type": "code",
   "execution_count": 33,
   "id": "f0b08587-4c6b-4d44-9048-271828f5d178",
   "metadata": {},
   "outputs": [
    {
     "data": {
      "text/plain": [
       "np.int64(1)"
      ]
     },
     "execution_count": 33,
     "metadata": {},
     "output_type": "execute_result"
    }
   ],
   "source": [
    "ar1.min()"
   ]
  },
  {
   "cell_type": "code",
   "execution_count": 34,
   "id": "c8a4e680-ca87-48ea-a263-39260487f48b",
   "metadata": {},
   "outputs": [
    {
     "data": {
      "text/plain": [
       "np.int64(10)"
      ]
     },
     "execution_count": 34,
     "metadata": {},
     "output_type": "execute_result"
    }
   ],
   "source": [
    "ar1.max()"
   ]
  },
  {
   "cell_type": "code",
   "execution_count": 37,
   "id": "9acc4543-78c3-4fc8-af56-dd82c820b25a",
   "metadata": {},
   "outputs": [
    {
     "data": {
      "text/plain": [
       "tuple"
      ]
     },
     "execution_count": 37,
     "metadata": {},
     "output_type": "execute_result"
    }
   ],
   "source": [
    "type(np.where(ar1>5))"
   ]
  },
  {
   "cell_type": "code",
   "execution_count": 39,
   "id": "0a1756f9-5857-4c1a-b88f-62b35aea0412",
   "metadata": {},
   "outputs": [
    {
     "data": {
      "text/plain": [
       "9"
      ]
     },
     "execution_count": 39,
     "metadata": {},
     "output_type": "execute_result"
    }
   ],
   "source": [
    "np.count_nonzero(ar1)"
   ]
  },
  {
   "cell_type": "code",
   "execution_count": 41,
   "id": "b382e596-f9c7-48df-8ffb-991586fbcf74",
   "metadata": {},
   "outputs": [
    {
     "data": {
      "text/plain": [
       "(array([0, 0, 0, 1, 1, 1, 2, 2, 2]), array([0, 1, 2, 0, 1, 2, 0, 1, 2]))"
      ]
     },
     "execution_count": 41,
     "metadata": {},
     "output_type": "execute_result"
    }
   ],
   "source": [
    "np.nonzero(ar1)"
   ]
  },
  {
   "cell_type": "code",
   "execution_count": 45,
   "id": "4537eb23-609c-49c3-b76d-e8f4c206e800",
   "metadata": {},
   "outputs": [],
   "source": [
    "ar1[1,2] = 0"
   ]
  },
  {
   "cell_type": "code",
   "execution_count": 46,
   "id": "1fbbcf12-e550-4fb4-bd80-fe1926ef5f10",
   "metadata": {},
   "outputs": [
    {
     "data": {
      "text/plain": [
       "(array([0, 0, 0, 1, 1, 2, 2, 2]), array([0, 1, 2, 0, 1, 0, 1, 2]))"
      ]
     },
     "execution_count": 46,
     "metadata": {},
     "output_type": "execute_result"
    }
   ],
   "source": [
    "np.nonzero(ar1)"
   ]
  },
  {
   "cell_type": "code",
   "execution_count": 47,
   "id": "f85798f1-bcfb-4f37-9d19-55373e39655d",
   "metadata": {},
   "outputs": [],
   "source": [
    "import sys"
   ]
  },
  {
   "cell_type": "code",
   "execution_count": 49,
   "id": "334cb53f-538e-4a37-9c78-3d387dfef691",
   "metadata": {},
   "outputs": [],
   "source": [
    "py_ar = [0,4,55,2]"
   ]
  },
  {
   "cell_type": "code",
   "execution_count": 50,
   "id": "c1694b0c-c8f0-473f-9efb-e6c0f3aa1416",
   "metadata": {},
   "outputs": [],
   "source": [
    "np_ar = np.array(py_ar)"
   ]
  },
  {
   "cell_type": "code",
   "execution_count": 51,
   "id": "a4c1f7ed-0af8-4863-89de-30d5ecd28128",
   "metadata": {},
   "outputs": [
    {
     "data": {
      "text/plain": [
       "112"
      ]
     },
     "execution_count": 51,
     "metadata": {},
     "output_type": "execute_result"
    }
   ],
   "source": [
    "sys.getsizeof(1) * len(py_ar)"
   ]
  },
  {
   "cell_type": "code",
   "execution_count": 1,
   "id": "ec40349d-0a19-411a-9c41-debbe36de320",
   "metadata": {},
   "outputs": [
    {
     "ename": "NameError",
     "evalue": "name 'np_ar1' is not defined",
     "output_type": "error",
     "traceback": [
      "\u001b[1;31m---------------------------------------------------------------------------\u001b[0m",
      "\u001b[1;31mNameError\u001b[0m                                 Traceback (most recent call last)",
      "Cell \u001b[1;32mIn[1], line 1\u001b[0m\n\u001b[1;32m----> 1\u001b[0m \u001b[43mnp_ar1\u001b[49m\u001b[38;5;241m.\u001b[39mitemsize \u001b[38;5;241m*\u001b[39m np_ar1\u001b[38;5;241m.\u001b[39msize\n",
      "\u001b[1;31mNameError\u001b[0m: name 'np_ar1' is not defined"
     ]
    }
   ],
   "source": [
    "np_ar1.itemsize * np_ar1.size"
   ]
  },
  {
   "cell_type": "code",
   "execution_count": null,
   "id": "bfae061a-5121-4ee2-a37d-c86702c28c9a",
   "metadata": {},
   "outputs": [],
   "source": []
  }
 ],
 "metadata": {
  "kernelspec": {
   "display_name": "Python 3 (ipykernel)",
   "language": "python",
   "name": "python3"
  },
  "language_info": {
   "codemirror_mode": {
    "name": "ipython",
    "version": 3
   },
   "file_extension": ".py",
   "mimetype": "text/x-python",
   "name": "python",
   "nbconvert_exporter": "python",
   "pygments_lexer": "ipython3",
   "version": "3.12.4"
  }
 },
 "nbformat": 4,
 "nbformat_minor": 5
}
